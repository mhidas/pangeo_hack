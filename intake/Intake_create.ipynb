{
 "cells": [
  {
   "cell_type": "markdown",
   "metadata": {},
   "source": [
    "Copied from https://github.com/martindurant/intake-release-blog/blob/master/data_engineer.ipynb\n",
    "\n",
    "# Data Engineering with Intake\n",
    "\n",
    "Intake provides a way to isolate the definition of data-sets from the code which will then load and process these data. Here we show how you might go about building entries in a YAML catalog file.\n"
   ]
  },
  {
   "cell_type": "code",
   "execution_count": 1,
   "metadata": {},
   "outputs": [
    {
     "name": "stderr",
     "output_type": "stream",
     "text": [
      "/opt/tljh/user/lib/python3.6/site-packages/tqdm/autonotebook/__init__.py:14: TqdmExperimentalWarning: Using `tqdm.autonotebook.tqdm` in notebook mode. Use `tqdm.tqdm` instead to force console mode (e.g. in jupyter console)\n",
      "  \" (e.g. in jupyter console)\", TqdmExperimentalWarning)\n"
     ]
    }
   ],
   "source": [
    "import intake\n",
    "# intake.output_notebook()"
   ]
  },
  {
   "cell_type": "code",
   "execution_count": 2,
   "metadata": {},
   "outputs": [
    {
     "data": {
      "text/plain": [
       "['yaml_file_cat',\n",
       " 'yaml_files_cat',\n",
       " 'remote-xarray',\n",
       " 'esm_metadatastore',\n",
       " 'thredds_cat',\n",
       " 'xarray_image',\n",
       " 'netcdf',\n",
       " 'opendap',\n",
       " 'rasterio',\n",
       " 'zarr',\n",
       " 'csv',\n",
       " 'textfiles',\n",
       " 'catalog',\n",
       " 'intake_remote',\n",
       " 'numpy',\n",
       " 'ndzarr']"
      ]
     },
     "execution_count": 2,
     "metadata": {},
     "output_type": "execute_result"
    }
   ],
   "source": [
    "list(intake.registry)"
   ]
  },
  {
   "cell_type": "code",
   "execution_count": 11,
   "metadata": {},
   "outputs": [],
   "source": [
    "# get a list of files to look at using WFS\n",
    "import pandas as pd\n",
    "url = (\"http://geoserver-123.aodn.org.au/geoserver/ows?typeName=moorings_all_map&SERVICE=WFS&REQUEST=GetFeature&VERSION=1.0.0&outputFormat=csv&CQL_FILTER=(file_version=%271%27%20AND%20realtime=FALSE%20AND%20site_code=%27NRSROT%27)\")\n",
    "df = pd.read_csv(url)"
   ]
  },
  {
   "cell_type": "code",
   "execution_count": 12,
   "metadata": {},
   "outputs": [
    {
     "data": {
      "text/html": [
       "<div>\n",
       "<style scoped>\n",
       "    .dataframe tbody tr th:only-of-type {\n",
       "        vertical-align: middle;\n",
       "    }\n",
       "\n",
       "    .dataframe tbody tr th {\n",
       "        vertical-align: top;\n",
       "    }\n",
       "\n",
       "    .dataframe thead th {\n",
       "        text-align: right;\n",
       "    }\n",
       "</style>\n",
       "<table border=\"1\" class=\"dataframe\">\n",
       "  <thead>\n",
       "    <tr style=\"text-align: right;\">\n",
       "      <th></th>\n",
       "      <th>FID</th>\n",
       "      <th>file_id</th>\n",
       "      <th>url</th>\n",
       "      <th>date_created</th>\n",
       "      <th>date_published</th>\n",
       "      <th>date_updated</th>\n",
       "      <th>size</th>\n",
       "      <th>feature_type</th>\n",
       "      <th>file_version</th>\n",
       "      <th>toolbox_version</th>\n",
       "      <th>...</th>\n",
       "      <th>has_air_temperature</th>\n",
       "      <th>has_salinity</th>\n",
       "      <th>has_water_pressure</th>\n",
       "      <th>has_air_pressure</th>\n",
       "      <th>has_sea_water_velocity</th>\n",
       "      <th>has_oxygen</th>\n",
       "      <th>has_chlorophyll</th>\n",
       "      <th>has_fluorescence</th>\n",
       "      <th>has_wave_parameters</th>\n",
       "      <th>geom</th>\n",
       "    </tr>\n",
       "  </thead>\n",
       "  <tbody>\n",
       "    <tr>\n",
       "      <th>0</th>\n",
       "      <td>moorings_all_map.fid--5dc4962a_16ab8e09aa3_5357</td>\n",
       "      <td>42395</td>\n",
       "      <td>IMOS/ANMN/NRS/NRSROT/Biogeochem_profiles/IMOS_...</td>\n",
       "      <td>2016-07-25T08:34:44</td>\n",
       "      <td>2016-07-25T08:51:28.685</td>\n",
       "      <td>2016-07-25T08:51:28.696</td>\n",
       "      <td>113990</td>\n",
       "      <td>profile</td>\n",
       "      <td>1</td>\n",
       "      <td>2.5.12 - PCWIN</td>\n",
       "      <td>...</td>\n",
       "      <td>False</td>\n",
       "      <td>True</td>\n",
       "      <td>True</td>\n",
       "      <td>False</td>\n",
       "      <td>False</td>\n",
       "      <td>True</td>\n",
       "      <td>False</td>\n",
       "      <td>False</td>\n",
       "      <td>False</td>\n",
       "      <td>POINT (115.4166666667 -32.0000166667)</td>\n",
       "    </tr>\n",
       "    <tr>\n",
       "      <th>1</th>\n",
       "      <td>moorings_all_map.fid--5dc4962a_16ab8e09aa3_5358</td>\n",
       "      <td>55419</td>\n",
       "      <td>IMOS/ANMN/NRS/NRSROT/Biogeochem_profiles/IMOS_...</td>\n",
       "      <td>2017-04-05T00:24:30</td>\n",
       "      <td>2017-04-05T00:26:30.006</td>\n",
       "      <td>2017-04-05T00:26:30.011</td>\n",
       "      <td>113742</td>\n",
       "      <td>profile</td>\n",
       "      <td>1</td>\n",
       "      <td>2.5.24 - PCWIN64</td>\n",
       "      <td>...</td>\n",
       "      <td>False</td>\n",
       "      <td>True</td>\n",
       "      <td>True</td>\n",
       "      <td>False</td>\n",
       "      <td>False</td>\n",
       "      <td>True</td>\n",
       "      <td>False</td>\n",
       "      <td>False</td>\n",
       "      <td>False</td>\n",
       "      <td>POINT (115.4166666667 -32.0000166667)</td>\n",
       "    </tr>\n",
       "    <tr>\n",
       "      <th>2</th>\n",
       "      <td>moorings_all_map.fid--5dc4962a_16ab8e09aa3_5359</td>\n",
       "      <td>56339</td>\n",
       "      <td>IMOS/ANMN/NRS/NRSROT/Biogeochem_profiles/IMOS_...</td>\n",
       "      <td>2017-05-04T23:34:16</td>\n",
       "      <td>2017-05-05T00:35:37.463</td>\n",
       "      <td>2017-05-05T00:35:37.486</td>\n",
       "      <td>113742</td>\n",
       "      <td>profile</td>\n",
       "      <td>1</td>\n",
       "      <td>2.5.25 - PCWIN64</td>\n",
       "      <td>...</td>\n",
       "      <td>False</td>\n",
       "      <td>True</td>\n",
       "      <td>True</td>\n",
       "      <td>False</td>\n",
       "      <td>False</td>\n",
       "      <td>True</td>\n",
       "      <td>False</td>\n",
       "      <td>False</td>\n",
       "      <td>False</td>\n",
       "      <td>POINT (115.4166666667 -32.0000166667)</td>\n",
       "    </tr>\n",
       "    <tr>\n",
       "      <th>3</th>\n",
       "      <td>moorings_all_map.fid--5dc4962a_16ab8e09aa3_535a</td>\n",
       "      <td>82699</td>\n",
       "      <td>IMOS/ANMN/NRS/NRSROT/Biogeochem_profiles/IMOS_...</td>\n",
       "      <td>2019-03-22T06:39:05</td>\n",
       "      <td>2019-03-25T03:33:07.524</td>\n",
       "      <td>2019-03-25T03:33:07.551</td>\n",
       "      <td>101926</td>\n",
       "      <td>profile</td>\n",
       "      <td>1</td>\n",
       "      <td>2.5.42 - PCWIN64</td>\n",
       "      <td>...</td>\n",
       "      <td>False</td>\n",
       "      <td>True</td>\n",
       "      <td>True</td>\n",
       "      <td>False</td>\n",
       "      <td>False</td>\n",
       "      <td>False</td>\n",
       "      <td>False</td>\n",
       "      <td>False</td>\n",
       "      <td>False</td>\n",
       "      <td>POINT (115.4 -32)</td>\n",
       "    </tr>\n",
       "    <tr>\n",
       "      <th>4</th>\n",
       "      <td>moorings_all_map.fid--5dc4962a_16ab8e09aa3_535b</td>\n",
       "      <td>82703</td>\n",
       "      <td>IMOS/ANMN/NRS/NRSROT/Biogeochem_profiles/IMOS_...</td>\n",
       "      <td>2019-03-22T07:34:32</td>\n",
       "      <td>2019-03-25T03:33:44.999</td>\n",
       "      <td>2019-03-25T03:33:45.03</td>\n",
       "      <td>101912</td>\n",
       "      <td>profile</td>\n",
       "      <td>1</td>\n",
       "      <td>2.5.42 - PCWIN64</td>\n",
       "      <td>...</td>\n",
       "      <td>False</td>\n",
       "      <td>True</td>\n",
       "      <td>True</td>\n",
       "      <td>False</td>\n",
       "      <td>False</td>\n",
       "      <td>False</td>\n",
       "      <td>False</td>\n",
       "      <td>False</td>\n",
       "      <td>False</td>\n",
       "      <td>POINT (115.4 -32)</td>\n",
       "    </tr>\n",
       "  </tbody>\n",
       "</table>\n",
       "<p>5 rows × 40 columns</p>\n",
       "</div>"
      ],
      "text/plain": [
       "                                               FID  file_id  \\\n",
       "0  moorings_all_map.fid--5dc4962a_16ab8e09aa3_5357    42395   \n",
       "1  moorings_all_map.fid--5dc4962a_16ab8e09aa3_5358    55419   \n",
       "2  moorings_all_map.fid--5dc4962a_16ab8e09aa3_5359    56339   \n",
       "3  moorings_all_map.fid--5dc4962a_16ab8e09aa3_535a    82699   \n",
       "4  moorings_all_map.fid--5dc4962a_16ab8e09aa3_535b    82703   \n",
       "\n",
       "                                                 url         date_created  \\\n",
       "0  IMOS/ANMN/NRS/NRSROT/Biogeochem_profiles/IMOS_...  2016-07-25T08:34:44   \n",
       "1  IMOS/ANMN/NRS/NRSROT/Biogeochem_profiles/IMOS_...  2017-04-05T00:24:30   \n",
       "2  IMOS/ANMN/NRS/NRSROT/Biogeochem_profiles/IMOS_...  2017-05-04T23:34:16   \n",
       "3  IMOS/ANMN/NRS/NRSROT/Biogeochem_profiles/IMOS_...  2019-03-22T06:39:05   \n",
       "4  IMOS/ANMN/NRS/NRSROT/Biogeochem_profiles/IMOS_...  2019-03-22T07:34:32   \n",
       "\n",
       "            date_published             date_updated    size feature_type  \\\n",
       "0  2016-07-25T08:51:28.685  2016-07-25T08:51:28.696  113990      profile   \n",
       "1  2017-04-05T00:26:30.006  2017-04-05T00:26:30.011  113742      profile   \n",
       "2  2017-05-05T00:35:37.463  2017-05-05T00:35:37.486  113742      profile   \n",
       "3  2019-03-25T03:33:07.524  2019-03-25T03:33:07.551  101926      profile   \n",
       "4  2019-03-25T03:33:44.999   2019-03-25T03:33:45.03  101912      profile   \n",
       "\n",
       "   file_version   toolbox_version  ... has_air_temperature has_salinity  \\\n",
       "0             1    2.5.12 - PCWIN  ...               False         True   \n",
       "1             1  2.5.24 - PCWIN64  ...               False         True   \n",
       "2             1  2.5.25 - PCWIN64  ...               False         True   \n",
       "3             1  2.5.42 - PCWIN64  ...               False         True   \n",
       "4             1  2.5.42 - PCWIN64  ...               False         True   \n",
       "\n",
       "  has_water_pressure has_air_pressure  has_sea_water_velocity has_oxygen  \\\n",
       "0               True            False                   False       True   \n",
       "1               True            False                   False       True   \n",
       "2               True            False                   False       True   \n",
       "3               True            False                   False      False   \n",
       "4               True            False                   False      False   \n",
       "\n",
       "  has_chlorophyll has_fluorescence has_wave_parameters  \\\n",
       "0           False            False               False   \n",
       "1           False            False               False   \n",
       "2           False            False               False   \n",
       "3           False            False               False   \n",
       "4           False            False               False   \n",
       "\n",
       "                                    geom  \n",
       "0  POINT (115.4166666667 -32.0000166667)  \n",
       "1  POINT (115.4166666667 -32.0000166667)  \n",
       "2  POINT (115.4166666667 -32.0000166667)  \n",
       "3                      POINT (115.4 -32)  \n",
       "4                      POINT (115.4 -32)  \n",
       "\n",
       "[5 rows x 40 columns]"
      ]
     },
     "execution_count": 12,
     "metadata": {},
     "output_type": "execute_result"
    }
   ],
   "source": [
    "df.head()"
   ]
  },
  {
   "cell_type": "code",
   "execution_count": 23,
   "metadata": {},
   "outputs": [
    {
     "data": {
      "text/plain": [
       "75"
      ]
     },
     "execution_count": 23,
     "metadata": {},
     "output_type": "execute_result"
    }
   ],
   "source": [
    "tempfiles = df[(df.data_category=='Temperature') & (df.file_version==1)]\n",
    "len(tempfiles)"
   ]
  },
  {
   "cell_type": "code",
   "execution_count": 29,
   "metadata": {},
   "outputs": [
    {
     "data": {
      "text/plain": [
       "3"
      ]
     },
     "execution_count": 29,
     "metadata": {},
     "output_type": "execute_result"
    }
   ],
   "source": [
    "tempfiles_latest = tempfiles[tempfiles.date_updated > '2019-01-01']\n",
    "len(tempfiles_latest)"
   ]
  },
  {
   "cell_type": "code",
   "execution_count": 38,
   "metadata": {},
   "outputs": [
    {
     "data": {
      "text/plain": [
       "['imos-data/IMOS/ANMN/NRS/NRSROT/Temperature/IMOS_ANMN-NRS_TZ_20180816T080000Z_NRSROT_FV01_NRSROT-1808-SBE39-27_END-20181214T034000Z_C-20190402T065832Z.nc',\n",
       " 'imos-data/IMOS/ANMN/NRS/NRSROT/Temperature/IMOS_ANMN-NRS_TZ_20180816T080000Z_NRSROT_FV01_NRSROT-1808-SBE39-33_END-20181214T032000Z_C-20190402T065833Z.nc',\n",
       " 'imos-data/IMOS/ANMN/NRS/NRSROT/Temperature/IMOS_ANMN-NRS_TZ_20180816T080000Z_NRSROT_FV01_NRSROT-1808-SBE39-43_END-20181214T030000Z_C-20190402T065833Z.nc']"
      ]
     },
     "execution_count": 38,
     "metadata": {},
     "output_type": "execute_result"
    }
   ],
   "source": [
    "testfiles = ['imos-data/'+u for u in tempfiles_latest.url]\n",
    "testfiles"
   ]
  },
  {
   "cell_type": "code",
   "execution_count": 47,
   "metadata": {},
   "outputs": [
    {
     "data": {
      "text/plain": [
       "{'datashape': None,\n",
       " 'dtype': None,\n",
       " 'shape': None,\n",
       " 'npartitions': None,\n",
       " 'metadata': {'dims': {'TIME': 51759},\n",
       "  'data_vars': {'TIMESERIES': ['LATITUDE',\n",
       "    'LONGITUDE',\n",
       "    'TIME',\n",
       "    'NOMINAL_DEPTH'],\n",
       "   'TEMP': ['LATITUDE', 'LONGITUDE', 'TIME', 'NOMINAL_DEPTH'],\n",
       "   'TEMP_quality_control': ['LATITUDE', 'LONGITUDE', 'TIME', 'NOMINAL_DEPTH'],\n",
       "   'DEPTH': ['LATITUDE', 'LONGITUDE', 'TIME', 'NOMINAL_DEPTH'],\n",
       "   'DEPTH_quality_control': ['LATITUDE',\n",
       "    'LONGITUDE',\n",
       "    'TIME',\n",
       "    'NOMINAL_DEPTH']},\n",
       "  'coords': ('LATITUDE', 'LONGITUDE', 'TIME', 'NOMINAL_DEPTH'),\n",
       "  'abstract': 'NRSROT Rottnest Island, WA, 60m mooring, Aug2018 - Dec2018. Preprocessed with DepthPP.',\n",
       "  'acknowledgement': 'Any users of IMOS data are required to clearly acknowledge the source of the material derived from IMOS in the format: \"Data was sourced from the Integrated Marine Observing System (IMOS) - IMOS is a national collaborative research infrastructure, supported by the Australian Government.\" If relevant, also credit other organisations involved in collection of this particular datastream (as listed in \\'credit\\' in the metadata record).',\n",
       "  'author': 'Snell, Mark',\n",
       "  'author_email': 'mark.snell@csiro.au',\n",
       "  'cdm_data_type': 'Station',\n",
       "  'citation': 'The citation in a list of references is: \"IMOS [year-of-data-download], [Title], [data-access-URL], accessed [date-of-access].\".',\n",
       "  'comment': 'Geospatial vertical min/max information has been filled using the DEPTH min and max.',\n",
       "  'Conventions': 'CF-1.6,IMOS-1.4',\n",
       "  'data_centre': 'Australian Ocean Data Network (AODN)',\n",
       "  'data_centre_email': 'info@aodn.org.au',\n",
       "  'date_created': '2019-04-02T06:58:32Z',\n",
       "  'deployment_code': 'NRSROT-1808',\n",
       "  'disclaimer': 'Data, products and services from IMOS are provided \"as is\" without any warranty as to fitness for a particular purpose.',\n",
       "  'featureType': 'timeSeries',\n",
       "  'file_version': 'Level 1 - Quality Controlled Data',\n",
       "  'file_version_quality_control': 'Quality controlled data have been through quality assurance procedures such as automated routines and sensor calibration or visual inspection and flag of obvious errors. The data are in physical units using standard SI metric units with calibration and other pre-processing routines applied, all time and location values are in absolute coordinates to comply with standards and datum. Data includes flags for each measurments to indicate the estimated quality of the measurement. Metadata exists for the data or for the higher level dataset that the data belongs to. This is the standard IMOS data level and is what should be made available to AODN and to the IMOS community.',\n",
       "  'geospatial_lat_max': -31.9895,\n",
       "  'geospatial_lat_min': -31.9895,\n",
       "  'geospatial_lon_max': 115.3853333333,\n",
       "  'geospatial_lon_min': 115.3853333333,\n",
       "  'geospatial_vertical_max': 32.037582,\n",
       "  'geospatial_vertical_min': -0.02818313,\n",
       "  'geospatial_vertical_positive': 'down',\n",
       "  'history': '2019-04-02T06:59:47Z - depthPP: Depth inferred from 2 neighbouring pressure sensors Seabird SBE37SM-RS232 @24m and WET Labs WQM @55m, using the Gibbs-SeaWater toolbox (TEOS-10) v3.06 from latitude and relative pressure measurements (calibration offset usually performed to balance current atmospheric pressure and acute sensor precision at a deployed depth).',\n",
       "  'institution': 'ANMN-NRS',\n",
       "  'institution_references': 'http://www.imos.org.au/emii.html',\n",
       "  'instrument': 'Seabird SBE39 [600m] temp only',\n",
       "  'instrument_nominal_depth': 27.0,\n",
       "  'instrument_sample_interval': 600.0000076294,\n",
       "  'instrument_serial_number': '6509',\n",
       "  'keywords': 'SBE39 [600m] temp only, TIME, TIMESERIES, LATITUDE, LONGITUDE, NOMINAL_DEPTH, TEMP, DEPTH',\n",
       "  'keywords_vocabulary': 'IMOS parameter names. See https://github.com/aodn/imos-toolbox/blob/master/IMOS/imosParameters.txt',\n",
       "  'license': 'http://creativecommons.org/licenses/by/4.0/',\n",
       "  'local_time_zone': 8.0,\n",
       "  'naming_authority': 'IMOS',\n",
       "  'platform_code': 'NRSROT',\n",
       "  'principal_investigator': 'Darby, Ian',\n",
       "  'principal_investigator_email': 'ian.darby@csiro.au',\n",
       "  'project': 'Integrated Marine Observing System (IMOS)',\n",
       "  'quality_control_log': 'imosImpossibleDateQC(dateMin=01/01/2007, dateMax=17/12/2018) did not fail on any TIME sample.\\nimosInOutWaterQC(in=16/08/18 08:00:00, out=13/12/18 01:40:00) flagged 156 TEMP samples with flag Bad_data.\\nimosInOutWaterQC(in=16/08/18 08:00:00, out=13/12/18 01:40:00) flagged 156 DEPTH samples with flag Bad_data.\\nimosGlobalRangeQC(min=-2.5, max=40) did not fail on any TEMP sample.\\nimosGlobalRangeQC(min=-5, max=12000) flagged 1 DEPTH samples with flag Bad_data.\\nimosRegionalRangeQC(min=9.5, max=38) did not fail on any TEMP sample.\\nimosImpossibleDepthQC(zNominalMargin=15, maxAngle=70 => min=12, max=73.583) flagged 1 DEPTH samples with flag Bad_data.\\nimosRateOfChangeQC(threshold=5*stdDev) did not fail on any TEMP sample.\\nimosRateOfChangeQC(threshold=6*stdDev) did not fail on any DEPTH sample.',\n",
       "  'references': 'http://www.imos.org.au',\n",
       "  'site_code': 'NRSROT',\n",
       "  'site_nominal_depth': 60.0,\n",
       "  'source': 'Mooring',\n",
       "  'standard_name_vocabulary': 'NetCDF Climate and Forecast (CF) Metadata Convention Standard Name Table 45',\n",
       "  'time_coverage_end': '2018-12-14T03:40:00Z',\n",
       "  'time_coverage_start': '2018-08-16T08:00:00Z',\n",
       "  'time_deployment_end': '2018-12-13T01:40:00Z',\n",
       "  'time_deployment_end_origin': 'TimeLastGoodData',\n",
       "  'time_deployment_start': '2018-08-16T08:00:00Z',\n",
       "  'time_deployment_start_origin': 'TimeFirstGoodData',\n",
       "  'title': 'NRSROT August 2018',\n",
       "  'toolbox_input_file': 'C:\\\\imos\\\\Rottnest\\\\NRSROT\\\\1808\\\\ROT_Upper_13Dec18.asc',\n",
       "  'toolbox_version': '2.5.42 - PCWIN64'}}"
      ]
     },
     "execution_count": 47,
     "metadata": {},
     "output_type": "execute_result"
    }
   ],
   "source": [
    "# let's try to open just one file\n",
    "source = intake.open_netcdf(\n",
    "    'imos-data/IMOS/ANMN/NRS/NRSROT/Temperature/IMOS_ANMN-NRS_TZ_*_C-2019*.nc',\n",
    "    concat_dim='TIME'\n",
    ")\n",
    "source.discover()\n",
    "# d = source.read()"
   ]
  },
  {
   "cell_type": "code",
   "execution_count": null,
   "metadata": {},
   "outputs": [],
   "source": [
    "print(source.yaml())"
   ]
  }
 ],
 "metadata": {
  "kernelspec": {
   "display_name": "Python 3",
   "language": "python",
   "name": "python3"
  },
  "language_info": {
   "codemirror_mode": {
    "name": "ipython",
    "version": 3
   },
   "file_extension": ".py",
   "mimetype": "text/x-python",
   "name": "python",
   "nbconvert_exporter": "python",
   "pygments_lexer": "ipython3",
   "version": "3.6.7"
  }
 },
 "nbformat": 4,
 "nbformat_minor": 2
}
