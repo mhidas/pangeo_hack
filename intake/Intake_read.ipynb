{
 "cells": [
  {
   "cell_type": "code",
   "execution_count": 1,
   "metadata": {},
   "outputs": [
    {
     "name": "stderr",
     "output_type": "stream",
     "text": [
      "/opt/tljh/user/lib/python3.6/site-packages/tqdm/autonotebook/__init__.py:14: TqdmExperimentalWarning: Using `tqdm.autonotebook.tqdm` in notebook mode. Use `tqdm.tqdm` instead to force console mode (e.g. in jupyter console)\n",
      "  \" (e.g. in jupyter console)\", TqdmExperimentalWarning)\n"
     ]
    }
   ],
   "source": [
    "import intake"
   ]
  },
  {
   "cell_type": "code",
   "execution_count": 2,
   "metadata": {},
   "outputs": [
    {
     "data": {
      "application/json": {
       "args": {
        "concat_dim": "TIME",
        "urlpath": "imos-data/IMOS/ANMN/NRS/NRSROT/Temperature/IMOS_ANMN-NRS_TZ_*_C-2019*.nc"
       },
       "container": "xarray",
       "description": "Latest temperature files from NRS Rottnest",
       "direct_access": "forbid",
       "metadata": {
        "plots": {
         "basic": {
          "height": 500,
          "kind": "line",
          "width": 700,
          "x": "TIME",
          "y": "TEMP"
         }
        }
       },
       "name": "nrsrot",
       "plugin": [
        "netcdf"
       ],
       "user_parameters": []
      },
      "text/plain": [
       "name: nrsrot\n",
       "container: xarray\n",
       "plugin: ['netcdf']\n",
       "description: Latest temperature files from NRS Rottnest\n",
       "direct_access: forbid\n",
       "user_parameters: []\n",
       "metadata: \n",
       "  plots: \n",
       "    basic: \n",
       "      kind: line\n",
       "      x: TIME\n",
       "      y: TEMP\n",
       "      width: 700\n",
       "      height: 500\n",
       "args: \n",
       "  urlpath: imos-data/IMOS/ANMN/NRS/NRSROT/Temperature/IMOS_ANMN-NRS_TZ_*_C-2019*.nc\n",
       "  concat_dim: TIME"
      ]
     },
     "metadata": {
      "application/json": {
       "root": "nrsrot"
      }
     },
     "output_type": "display_data"
    }
   ],
   "source": [
    "cat = intake.open_catalog('nrsrot.yaml')\n",
    "cat.nrsrot"
   ]
  },
  {
   "cell_type": "code",
   "execution_count": 3,
   "metadata": {},
   "outputs": [
    {
     "data": {
      "text/html": [
       "<table style=\"border: 2px solid white;\">\n",
       "<tr>\n",
       "<td style=\"vertical-align: top; border: 0px solid white\">\n",
       "<h3>Client</h3>\n",
       "<ul>\n",
       "  <li><b>Scheduler: </b>tcp://127.0.0.1:44995\n",
       "  <li><b>Dashboard: </b><a href='http://127.0.0.1:38263/status' target='_blank'>http://127.0.0.1:38263/status</a>\n",
       "</ul>\n",
       "</td>\n",
       "<td style=\"vertical-align: top; border: 0px solid white\">\n",
       "<h3>Cluster</h3>\n",
       "<ul>\n",
       "  <li><b>Workers: </b>4</li>\n",
       "  <li><b>Cores: </b>32</li>\n",
       "  <li><b>Memory: </b>132.35 GB</li>\n",
       "</ul>\n",
       "</td>\n",
       "</tr>\n",
       "</table>"
      ],
      "text/plain": [
       "<Client: scheduler='tcp://127.0.0.1:44995' processes=4 cores=32>"
      ]
     },
     "execution_count": 3,
     "metadata": {},
     "output_type": "execute_result"
    }
   ],
   "source": [
    "from dask.distributed import Client\n",
    "\n",
    "client = Client(\"tcp://127.0.0.1:44995\")\n",
    "client"
   ]
  },
  {
   "cell_type": "code",
   "execution_count": 4,
   "metadata": {},
   "outputs": [
    {
     "data": {
      "text/plain": [
       "<xarray.Dataset>\n",
       "Dimensions:                (TIME: 51759)\n",
       "Coordinates:\n",
       "    LATITUDE               float64 -31.99\n",
       "    LONGITUDE              float64 115.4\n",
       "  * TIME                   (TIME) datetime64[ns] 2018-08-16T08:00:00.000003328 ... 2018-12-14T03:00:00\n",
       "    NOMINAL_DEPTH          (TIME) float32 27.0 27.0 27.0 27.0 ... 43.0 43.0 43.0\n",
       "Data variables:\n",
       "    TIMESERIES             (TIME) int32 1 1 1 1 1 1 1 1 1 ... 1 1 1 1 1 1 1 1 1\n",
       "    TEMP                   (TIME) float32 19.838 19.889 ... 21.104 21.3759\n",
       "    TEMP_quality_control   (TIME) float32 1.0 1.0 1.0 1.0 ... 4.0 4.0 4.0 4.0\n",
       "    DEPTH                  (TIME) float32 nan 30.035397 29.96904 ... nan nan nan\n",
       "    DEPTH_quality_control  (TIME) float32 4.0 1.0 1.0 1.0 ... 4.0 4.0 4.0 4.0\n",
       "Attributes:\n",
       "    abstract:                      NRSROT Rottnest Island, WA, 60m mooring, A...\n",
       "    acknowledgement:               Any users of IMOS data are required to cle...\n",
       "    author:                        Snell, Mark\n",
       "    author_email:                  mark.snell@csiro.au\n",
       "    cdm_data_type:                 Station\n",
       "    citation:                      The citation in a list of references is: \"...\n",
       "    comment:                       Geospatial vertical min/max information ha...\n",
       "    Conventions:                   CF-1.6,IMOS-1.4\n",
       "    data_centre:                   Australian Ocean Data Network (AODN)\n",
       "    data_centre_email:             info@aodn.org.au\n",
       "    date_created:                  2019-04-02T06:58:32Z\n",
       "    deployment_code:               NRSROT-1808\n",
       "    disclaimer:                    Data, products and services from IMOS are ...\n",
       "    featureType:                   timeSeries\n",
       "    file_version:                  Level 1 - Quality Controlled Data\n",
       "    file_version_quality_control:  Quality controlled data have been through ...\n",
       "    geospatial_lat_max:            -31.9895\n",
       "    geospatial_lat_min:            -31.9895\n",
       "    geospatial_lon_max:            115.3853333333\n",
       "    geospatial_lon_min:            115.3853333333\n",
       "    geospatial_vertical_max:       32.037582\n",
       "    geospatial_vertical_min:       -0.02818313\n",
       "    geospatial_vertical_positive:  down\n",
       "    history:                       2019-04-02T06:59:47Z - depthPP: Depth infe...\n",
       "    institution:                   ANMN-NRS\n",
       "    institution_references:        http://www.imos.org.au/emii.html\n",
       "    instrument:                    Seabird SBE39 [600m] temp only\n",
       "    instrument_nominal_depth:      27.0\n",
       "    instrument_sample_interval:    600.0000076294\n",
       "    instrument_serial_number:      6509\n",
       "    keywords:                      SBE39 [600m] temp only, TIME, TIMESERIES, ...\n",
       "    keywords_vocabulary:           IMOS parameter names. See https://github.c...\n",
       "    license:                       http://creativecommons.org/licenses/by/4.0/\n",
       "    local_time_zone:               8.0\n",
       "    naming_authority:              IMOS\n",
       "    platform_code:                 NRSROT\n",
       "    principal_investigator:        Darby, Ian\n",
       "    principal_investigator_email:  ian.darby@csiro.au\n",
       "    project:                       Integrated Marine Observing System (IMOS)\n",
       "    quality_control_log:           imosImpossibleDateQC(dateMin=01/01/2007, d...\n",
       "    references:                    http://www.imos.org.au\n",
       "    site_code:                     NRSROT\n",
       "    site_nominal_depth:            60.0\n",
       "    source:                        Mooring\n",
       "    standard_name_vocabulary:      NetCDF Climate and Forecast (CF) Metadata ...\n",
       "    time_coverage_end:             2018-12-14T03:40:00Z\n",
       "    time_coverage_start:           2018-08-16T08:00:00Z\n",
       "    time_deployment_end:           2018-12-13T01:40:00Z\n",
       "    time_deployment_end_origin:    TimeLastGoodData\n",
       "    time_deployment_start:         2018-08-16T08:00:00Z\n",
       "    time_deployment_start_origin:  TimeFirstGoodData\n",
       "    title:                         NRSROT August 2018\n",
       "    toolbox_input_file:            C:\\imos\\Rottnest\\NRSROT\\1808\\ROT_Upper_13D...\n",
       "    toolbox_version:               2.5.42 - PCWIN64"
      ]
     },
     "execution_count": 4,
     "metadata": {},
     "output_type": "execute_result"
    }
   ],
   "source": [
    "nrsrot = cat.nrsrot.read()\n",
    "nrsrot"
   ]
  }
 ],
 "metadata": {
  "kernelspec": {
   "display_name": "Python 3",
   "language": "python",
   "name": "python3"
  },
  "language_info": {
   "codemirror_mode": {
    "name": "ipython",
    "version": 3
   },
   "file_extension": ".py",
   "mimetype": "text/x-python",
   "name": "python",
   "nbconvert_exporter": "python",
   "pygments_lexer": "ipython3",
   "version": "3.6.7"
  }
 },
 "nbformat": 4,
 "nbformat_minor": 2
}
