{
 "cells": [
  {
   "cell_type": "code",
   "execution_count": 1,
   "metadata": {},
   "outputs": [],
   "source": [
    "%matplotlib inline\n",
    "import xarray as xr\n",
    "import dask\n",
    "import s3fs"
   ]
  },
  {
   "cell_type": "markdown",
   "metadata": {},
   "source": [
    "# LocalCluster"
   ]
  },
  {
   "cell_type": "code",
   "execution_count": 2,
   "metadata": {},
   "outputs": [
    {
     "data": {
      "text/html": [
       "<table style=\"border: 2px solid white;\">\n",
       "<tr>\n",
       "<td style=\"vertical-align: top; border: 0px solid white\">\n",
       "<h3>Client</h3>\n",
       "<ul>\n",
       "  <li><b>Scheduler: </b>tcp://127.0.0.1:36583\n",
       "  <li><b>Dashboard: </b><a href='http://127.0.0.1:34551/status' target='_blank'>http://127.0.0.1:34551/status</a>\n",
       "</ul>\n",
       "</td>\n",
       "<td style=\"vertical-align: top; border: 0px solid white\">\n",
       "<h3>Cluster</h3>\n",
       "<ul>\n",
       "  <li><b>Workers: </b>12</li>\n",
       "  <li><b>Cores: </b>96</li>\n",
       "  <li><b>Memory: </b>397.04 GB</li>\n",
       "</ul>\n",
       "</td>\n",
       "</tr>\n",
       "</table>"
      ],
      "text/plain": [
       "<Client: scheduler='tcp://127.0.0.1:36583' processes=12 cores=96>"
      ]
     },
     "execution_count": 2,
     "metadata": {},
     "output_type": "execute_result"
    }
   ],
   "source": [
    "from dask.distributed import Client\n",
    "\n",
    "client = Client(\"tcp://127.0.0.1:36583\")\n",
    "client"
   ]
  },
  {
   "cell_type": "markdown",
   "metadata": {},
   "source": [
    "# S3 Buckets\n",
    "\n",
    "Using [s3fs](https://s3fs.readthedocs.io/en/latest/) (built on boto3)"
   ]
  },
  {
   "cell_type": "code",
   "execution_count": 3,
   "metadata": {},
   "outputs": [
    {
     "data": {
      "text/plain": [
       "['imos-data/IMOS/ANMN/NRS/NRSROT/Biogeochem_profiles',\n",
       " 'imos-data/IMOS/ANMN/NRS/NRSROT/Biogeochem_timeseries',\n",
       " 'imos-data/IMOS/ANMN/NRS/NRSROT/CTD_timeseries',\n",
       " 'imos-data/IMOS/ANMN/NRS/NRSROT/Field_logsheets',\n",
       " 'imos-data/IMOS/ANMN/NRS/NRSROT/Temperature',\n",
       " 'imos-data/IMOS/ANMN/NRS/NRSROT/Velocity',\n",
       " 'imos-data/IMOS/ANMN/NRS/NRSROT/plots']"
      ]
     },
     "execution_count": 3,
     "metadata": {},
     "output_type": "execute_result"
    }
   ],
   "source": [
    "s3 = s3fs.S3FileSystem(anon=True)\n",
    "s3.ls('imos-data/IMOS/ANMN/NRS/NRSROT')"
   ]
  },
  {
   "cell_type": "code",
   "execution_count": 4,
   "metadata": {},
   "outputs": [
    {
     "data": {
      "text/plain": [
       "['imos-data/IMOS/ANMN/NRS/NRSROT/Temperature/IMOS_ANMN-NRS_TZ_20081120T080000Z_NRSROT_FV01_NRSROT-0811-SBE39-27_END-20090219T030000Z_C-20180810T044335Z.nc',\n",
       " 'imos-data/IMOS/ANMN/NRS/NRSROT/Temperature/IMOS_ANMN-NRS_TZ_20081120T080000Z_NRSROT_FV01_NRSROT-0811-SBE39-35_END-20090219T041500Z_C-20180810T044336Z.nc',\n",
       " 'imos-data/IMOS/ANMN/NRS/NRSROT/Temperature/IMOS_ANMN-NRS_TZ_20090220T070000Z_NRSROT_FV01_NRSROT-0902-SBE39-27_END-20090714T052500Z_C-20180810T035727Z.nc',\n",
       " 'imos-data/IMOS/ANMN/NRS/NRSROT/Temperature/IMOS_ANMN-NRS_TZ_20090220T070000Z_NRSROT_FV01_NRSROT-0902-SBE39-33_END-20090714T034500Z_C-20180810T035727Z.nc',\n",
       " 'imos-data/IMOS/ANMN/NRS/NRSROT/Temperature/IMOS_ANMN-NRS_TZ_20091105T080000Z_NRSROT_FV01_NRSROT-0911-SBE39-27_END-20100225T031500Z_C-20180810T014224Z.nc']"
      ]
     },
     "execution_count": 4,
     "metadata": {},
     "output_type": "execute_result"
    }
   ],
   "source": [
    "s3.ls('imos-data/IMOS/ANMN/NRS/NRSROT/Temperature')[:5]"
   ]
  },
  {
   "cell_type": "code",
   "execution_count": 5,
   "metadata": {},
   "outputs": [
    {
     "data": {
      "text/plain": [
       "<xarray.DataArray 'TEMP' (TIME: 32200)>\n",
       "array([18.5204, 18.5221, 18.531 , ..., 21.4232, 21.4306, 21.4204],\n",
       "      dtype=float32)\n",
       "Coordinates:\n",
       "  * TIME           (TIME) datetime64[ns] 2009-11-05T08:00:00.000003328 ... 2010-02-25T03:14:59.999996672\n",
       "    LATITUDE       float64 ...\n",
       "    LONGITUDE      float64 ...\n",
       "    NOMINAL_DEPTH  float32 ...\n",
       "Attributes:\n",
       "    ancillary_variables:  TEMP_quality_control\n",
       "    long_name:            sea_water_temperature\n",
       "    standard_name:        sea_water_temperature\n",
       "    units:                degrees_Celsius\n",
       "    valid_max:            40.0\n",
       "    valid_min:            -2.5"
      ]
     },
     "execution_count": 5,
     "metadata": {},
     "output_type": "execute_result"
    }
   ],
   "source": [
    "# We can just download one of the files and open it locally\n",
    "s3.get('imos-data/IMOS/ANMN/NRS/NRSROT/Temperature/IMOS_ANMN-NRS_TZ_20091105T080000Z_NRSROT_FV01_NRSROT-0911-SBE39-27_END-20100225T031500Z_C-20180810T014224Z.nc',\n",
    "      'tmp/IMOS_ANMN-NRS_TZ_20091105T080000Z_NRSROT_FV01_NRSROT-0911-SBE39-27_END-20100225T031500Z_C-20180810T014224Z.nc')\n",
    "ds = xr.open_dataset('tmp/IMOS_ANMN-NRS_TZ_20091105T080000Z_NRSROT_FV01_NRSROT-0911-SBE39-27_END-20100225T031500Z_C-20180810T014224Z.nc')\n",
    "temp = ds.TEMP\n",
    "temp"
   ]
  },
  {
   "cell_type": "markdown",
   "metadata": {},
   "source": [
    "\n",
    "\n",
    "## Let's try to open a multi-file dataset"
   ]
  },
  {
   "cell_type": "code",
   "execution_count": 6,
   "metadata": {},
   "outputs": [
    {
     "data": {
      "text/plain": [
       "[{'Key': 'imos-data/IMOS/ANMN/NRS/NRSROT/Temperature/IMOS_ANMN-NRS_TZ_20081120T080000Z_NRSROT_FV01_NRSROT-0811-SBE39-27_END-20090219T030000Z_C-20180810T044335Z.nc',\n",
       "  'LastModified': datetime.datetime(2018, 8, 14, 0, 32, 42, tzinfo=tzlocal()),\n",
       "  'ETag': '\"acea025851d4f0219f221321edaedce2\"',\n",
       "  'Size': 375857,\n",
       "  'StorageClass': 'STANDARD'},\n",
       " {'Key': 'imos-data/IMOS/ANMN/NRS/NRSROT/Temperature/IMOS_ANMN-NRS_TZ_20081120T080000Z_NRSROT_FV01_NRSROT-0811-SBE39-35_END-20090219T041500Z_C-20180810T044336Z.nc',\n",
       "  'LastModified': datetime.datetime(2018, 8, 14, 0, 32, 42, tzinfo=tzlocal()),\n",
       "  'ETag': '\"b3d519e0bb69f2987ddfe1fdfc739215\"',\n",
       "  'Size': 371699,\n",
       "  'StorageClass': 'STANDARD'},\n",
       " {'Key': 'imos-data/IMOS/ANMN/NRS/NRSROT/Temperature/IMOS_ANMN-NRS_TZ_20090220T070000Z_NRSROT_FV01_NRSROT-0902-SBE39-27_END-20090714T052500Z_C-20180810T035727Z.nc',\n",
       "  'LastModified': datetime.datetime(2018, 8, 14, 0, 31, 51, tzinfo=tzlocal()),\n",
       "  'ETag': '\"106cda1ee4eb8bdd5556d8b88384b7df\"',\n",
       "  'Size': 541246,\n",
       "  'StorageClass': 'STANDARD'}]"
      ]
     },
     "execution_count": 6,
     "metadata": {},
     "output_type": "execute_result"
    }
   ],
   "source": [
    "# For example, let's get a bunch of NRS Rottnest temperature files\n",
    "lsrot = s3.ls('imos-data/IMOS/ANMN/NRS/NRSROT/Temperature', detail=True)\n",
    "lsrot[:3]"
   ]
  },
  {
   "cell_type": "code",
   "execution_count": 7,
   "metadata": {},
   "outputs": [
    {
     "data": {
      "text/plain": [
       "72"
      ]
     },
     "execution_count": 7,
     "metadata": {},
     "output_type": "execute_result"
    }
   ],
   "source": [
    "# This includes all files (including old, problematic ones) and sub-directories at that path, so we need to filter it \n",
    "import datetime as dt\n",
    "from dateutil.tz import tzlocal\n",
    "shortlist = [f['Key']\n",
    "             for f in lsrot\n",
    "             if f['StorageClass'] == 'STANDARD' and f['LastModified'] > dt.datetime(2018,1,1,tzinfo=tzlocal())\n",
    "            ]\n",
    "len(shortlist)"
   ]
  },
  {
   "cell_type": "code",
   "execution_count": 45,
   "metadata": {},
   "outputs": [
    {
     "data": {
      "text/plain": [
       "['imos-data/IMOS/ANMN/NRS/NRSROT/Temperature/IMOS_ANMN-NRS_TZ_20090220T070000Z_NRSROT_FV01_NRSROT-0902-SBE39-33_END-20090714T034500Z_C-20180810T035727Z.nc',\n",
       " 'imos-data/IMOS/ANMN/NRS/NRSROT/Temperature/IMOS_ANMN-NRS_TZ_20091105T080000Z_NRSROT_FV01_NRSROT-0911-SBE39-33_END-20100226T055000Z_C-20180810T014224Z.nc',\n",
       " 'imos-data/IMOS/ANMN/NRS/NRSROT/Temperature/IMOS_ANMN-NRS_TZ_20100226T080000Z_NRSROT_FV01_NRSROT-1002-SBE39-33_END-20100603T072500Z_C-20180810T004751Z.nc',\n",
       " 'imos-data/IMOS/ANMN/NRS/NRSROT/Temperature/IMOS_ANMN-NRS_TZ_20100603T032000Z_NRSROT_FV01_NRSROT-1006-SBE39-33_END-20100903T021000Z_C-20180817T011215Z.nc',\n",
       " 'imos-data/IMOS/ANMN/NRS/NRSROT/Temperature/IMOS_ANMN-NRS_TZ_20100903T080000Z_NRSROT_FV01_NRSROT-1009-SBE39-33_END-20101215T005500Z_C-20180510T010555Z.nc',\n",
       " 'imos-data/IMOS/ANMN/NRS/NRSROT/Temperature/IMOS_ANMN-NRS_TZ_20101215T080000Z_NRSROT_FV01_NRSROT-1012-SBE39-33_END-20110527T051000Z_C-20180823T054545Z.nc',\n",
       " 'imos-data/IMOS/ANMN/NRS/NRSROT/Temperature/IMOS_ANMN-NRS_TZ_20110527T080000Z_NRSROT_FV01_NRSROT-1105-SBE39-33_END-20111006T023000Z_C-20180509T064730Z.nc',\n",
       " 'imos-data/IMOS/ANMN/NRS/NRSROT/Temperature/IMOS_ANMN-NRS_TZ_20111006T080000Z_NRSROT_FV01_NRSROT-1110-SBE39-33_END-20120130T011500Z_C-20180823T060029Z.nc',\n",
       " 'imos-data/IMOS/ANMN/NRS/NRSROT/Temperature/IMOS_ANMN-NRS_TZ_20120130T080000Z_NRSROT_FV01_NRSROT-1201-SBE39-33_END-20120525T013000Z_C-20180823T061420Z.nc',\n",
       " 'imos-data/IMOS/ANMN/NRS/NRSROT/Temperature/IMOS_ANMN-NRS_TZ_20120525T080000Z_NRSROT_FV01_NRSROT-1205-SBE39-33_END-20120928T073000Z_C-20180509T022153Z.nc',\n",
       " 'imos-data/IMOS/ANMN/NRS/NRSROT/Temperature/IMOS_ANMN-NRS_TZ_20120928T080000Z_NRSROT_FV01_NRSROT-1209-SBE39-33_END-20130130T073000Z_C-20180509T015240Z.nc',\n",
       " 'imos-data/IMOS/ANMN/NRS/NRSROT/Temperature/IMOS_ANMN-NRS_TZ_20130125T080000Z_NRSROT_FV01_NRSROT-1301-SBE39-33_END-20130520T031000Z_C-20180509T012735Z.nc',\n",
       " 'imos-data/IMOS/ANMN/NRS/NRSROT/Temperature/IMOS_ANMN-NRS_TZ_20130517T080000Z_NRSROT_FV01_NRSROT-1305-SBE39-33_END-20131014T064500Z_C-20180508T070420Z.nc',\n",
       " 'imos-data/IMOS/ANMN/NRS/NRSROT/Temperature/IMOS_ANMN-NRS_TZ_20131011T080000Z_NRSROT_FV01_NRSROT-1310-SBE39-33_END-20140214T025000Z_C-20180508T042538Z.nc',\n",
       " 'imos-data/IMOS/ANMN/NRS/NRSROT/Temperature/IMOS_ANMN-NRS_TZ_20140213T080000Z_NRSROT_FV01_NRSROT-1402-SBE39-33_END-20140530T061000Z_C-20180508T033322Z.nc',\n",
       " 'imos-data/IMOS/ANMN/NRS/NRSROT/Temperature/IMOS_ANMN-NRS_TZ_20140808T080000Z_NRSROT_FV01_NRSROT-1408-SBE39-33_END-20141217T054500Z_C-20180508T013222Z.nc',\n",
       " 'imos-data/IMOS/ANMN/NRS/NRSROT/Temperature/IMOS_ANMN-NRS_TZ_20141215T160000Z_NRSROT_FV01_NRSROT-1412-SBE39-33_END-20150331T063000Z_C-20180508T001839Z.nc',\n",
       " 'imos-data/IMOS/ANMN/NRS/NRSROT/Temperature/IMOS_ANMN-NRS_TZ_20150330T080000Z_NRSROT_FV01_NRSROT-1503-SBE39-33_END-20150727T050000Z_C-20180507T064755Z.nc',\n",
       " 'imos-data/IMOS/ANMN/NRS/NRSROT/Temperature/IMOS_ANMN-NRS_TZ_20150724T080000Z_NRSROT_FV01_NRSROT-1507-SBE39-33_END-20151209T045000Z_C-20180507T041734Z.nc',\n",
       " 'imos-data/IMOS/ANMN/NRS/NRSROT/Temperature/IMOS_ANMN-NRS_TZ_20151208T080000Z_NRSROT_FV01_NRSROT-1512-SBE39-33_END-20160411T045000Z_C-20180504T071458Z.nc',\n",
       " 'imos-data/IMOS/ANMN/NRS/NRSROT/Temperature/IMOS_ANMN-NRS_TZ_20160408T080000Z_NRSROT_FV01_NRSROT-1604-SBE39-33_END-20161012T032000Z_C-20180504T030840Z.nc',\n",
       " 'imos-data/IMOS/ANMN/NRS/NRSROT/Temperature/IMOS_ANMN-NRS_TZ_20161011T080000Z_NRSROT_FV01_NRSROT-1610-SBE39-33_END-20170327T053000Z_C-20180504T022803Z.nc',\n",
       " 'imos-data/IMOS/ANMN/NRS/NRSROT/Temperature/IMOS_ANMN-NRS_TZ_20170322T080000Z_NRSROT_FV01_NRSROT-1703-SBE39-33_END-20170725T034000Z_C-20180503T064159Z.nc',\n",
       " 'imos-data/IMOS/ANMN/NRS/NRSROT/Temperature/IMOS_ANMN-NRS_TZ_20170724T080000Z_NRSROT_FV01_NRSROT-1707-SBE39-33_END-20171129T012000Z_C-20180502T051911Z.nc',\n",
       " 'imos-data/IMOS/ANMN/NRS/NRSROT/Temperature/IMOS_ANMN-NRS_TZ_20171124T080000Z_NRSROT_FV01_NRSROT-1712-SBE39-33_END-20180409T062000Z_C-20180503T020213Z.nc',\n",
       " 'imos-data/IMOS/ANMN/NRS/NRSROT/Temperature/IMOS_ANMN-NRS_TZ_20180816T080000Z_NRSROT_FV01_NRSROT-1808-SBE39-33_END-20181214T032000Z_C-20190402T065833Z.nc']"
      ]
     },
     "execution_count": 45,
     "metadata": {},
     "output_type": "execute_result"
    }
   ],
   "source": [
    "# Now we'll just look at the instrumets at a nominal depth of ~3m\n",
    "import re\n",
    "PAT = re.compile('.*SBE39-33.*')\n",
    "lsrot = s3.ls('imos-data/IMOS/ANMN/NRS/NRSROT/Temperature')\n",
    "shortlist = [f for f in lsrot if PAT.match(f)]\n",
    "shortlist"
   ]
  },
  {
   "cell_type": "code",
   "execution_count": 49,
   "metadata": {},
   "outputs": [
    {
     "data": {
      "text/plain": [
       "<xarray.Dataset>\n",
       "Dimensions:                (TIME: 738277)\n",
       "Coordinates:\n",
       "    NOMINAL_DEPTH          float32 33.0\n",
       "  * TIME                   (TIME) datetime64[ns] 2009-02-20T06:59:59.999996672 ... 2018-12-14T03:19:59.999998976\n",
       "    LATITUDE               (TIME) float64 -32.0 -32.0 -32.0 ... -31.99 -31.99\n",
       "    LONGITUDE              (TIME) float64 115.4 115.4 115.4 ... 115.4 115.4\n",
       "Data variables:\n",
       "    TIMESERIES             (TIME) int32 1 1 1 1 1 1 1 1 1 ... 1 1 1 1 1 1 1 1 1\n",
       "    TEMP                   (TIME) float32 dask.array<shape=(738277,), chunksize=(41434,)>\n",
       "    TEMP_quality_control   (TIME) float32 dask.array<shape=(738277,), chunksize=(41434,)>\n",
       "    DEPTH                  (TIME) float32 dask.array<shape=(738277,), chunksize=(41434,)>\n",
       "    DEPTH_quality_control  (TIME) float32 dask.array<shape=(738277,), chunksize=(41434,)>\n",
       "Attributes:\n",
       "    abstract:                      NRSROT Rottnest Island, WA, 48m mooring, F...\n",
       "    acknowledgement:               Any users of IMOS data are required to cle...\n",
       "    author:                        Snell, Mark\n",
       "    author_email:                  mark.snell@csiro.au\n",
       "    cdm_data_type:                 Station\n",
       "    citation:                      The citation in a list of references is: \"...\n",
       "    comment:                       Geospatial vertical min/max information ha...\n",
       "    Conventions:                   CF-1.6,IMOS-1.4\n",
       "    data_centre:                   Australian Ocean Data Network (AODN)\n",
       "    data_centre_email:             info@aodn.org.au\n",
       "    date_created:                  2018-08-10T03:57:27Z\n",
       "    deployment_code:               NRSROT-0902\n",
       "    disclaimer:                    Data, products and services from IMOS are ...\n",
       "    featureType:                   timeSeries\n",
       "    file_version:                  Level 1 - Quality Controlled Data\n",
       "    file_version_quality_control:  Quality controlled data have been through ...\n",
       "    geospatial_lat_max:            -32.0\n",
       "    geospatial_lat_min:            -32.0\n",
       "    geospatial_lon_max:            115.4166666667\n",
       "    geospatial_lon_min:            115.4166666667\n",
       "    geospatial_vertical_max:       36.71264\n",
       "    geospatial_vertical_min:       30.335415\n",
       "    geospatial_vertical_positive:  down\n",
       "    history:                       2018-08-10T03:58:01Z - depthPP: Depth infe...\n",
       "    institution:                   ANMN-NRS\n",
       "    institution_references:        http://www.imos.org.au/emii.html\n",
       "    instrument:                    Seabird SBE39 [600m] temp only\n",
       "    instrument_nominal_depth:      33.0\n",
       "    instrument_sample_interval:    300.0\n",
       "    instrument_serial_number:      4141\n",
       "    keywords:                      SBE39 [600m] temp only, TIME, TIMESERIES, ...\n",
       "    keywords_vocabulary:           IMOS parameter names. See https://github.c...\n",
       "    license:                       http://creativecommons.org/licenses/by/4.0/\n",
       "    local_time_zone:               8.0\n",
       "    naming_authority:              IMOS\n",
       "    platform_code:                 NRSROT\n",
       "    principal_investigator:        Darby, Ian\n",
       "    principal_investigator_email:  ian.darby@csiro.au\n",
       "    project:                       Integrated Marine Observing System (IMOS)\n",
       "    quality_control_log:           imosImpossibleDateQC(dateMin=01/01/2007, d...\n",
       "    references:                    http://www.imos.org.au\n",
       "    site_code:                     NRSROT\n",
       "    site_nominal_depth:            48.0\n",
       "    standard_name_vocabulary:      NetCDF Climate and Forecast (CF) Metadata ...\n",
       "    time_coverage_end:             2009-07-14T03:45:00Z\n",
       "    time_coverage_start:           2009-02-20T07:00:00Z\n",
       "    time_deployment_end:           2009-07-14T02:40:00Z\n",
       "    time_deployment_end_origin:    TimeLastInPos\n",
       "    time_deployment_start:         2009-02-18T06:00:00Z\n",
       "    time_deployment_start_origin:  TimeFirstInPos\n",
       "    title:                         NRSROT February 2009\n",
       "    toolbox_input_file:            C:\\imos\\Rottnest\\NRSROT\\0902\\ROT_Lwr_4141_...\n",
       "    toolbox_version:               2.5.38 - PCWIN64"
      ]
     },
     "execution_count": 49,
     "metadata": {},
     "output_type": "execute_result"
    }
   ],
   "source": [
    "# These would be using s3fs, but they break due to some attribute problem with some files:\n",
    "#   OSError: Unable to read attribute (no appropriate function for conversion path)\n",
    "#\n",
    "# rot_43 = xr.open_mfdataset([s3.open(f) for f in shortlist])\n",
    "# rot_43 = xr.open_dataset(s3.open(shortlist[0], mode='rb'))\n",
    "\n",
    "# This only works because we also have the bucket mounted using FUSE\n",
    "#   ! goofys imos-data imos-data\n",
    "rot_33 = xr.open_mfdataset(shortlist)\n",
    "rot_33 "
   ]
  },
  {
   "cell_type": "code",
   "execution_count": 50,
   "metadata": {},
   "outputs": [
    {
     "data": {
      "text/plain": [
       "<xarray.DataArray 'TEMP' (TIME: 738277)>\n",
       "dask.array<shape=(738277,), dtype=float32, chunksize=(41434,)>\n",
       "Coordinates:\n",
       "    NOMINAL_DEPTH  float32 33.0\n",
       "  * TIME           (TIME) datetime64[ns] 2009-02-20T06:59:59.999996672 ... 2018-12-14T03:19:59.999998976\n",
       "    LATITUDE       (TIME) float64 -32.0 -32.0 -32.0 ... -31.99 -31.99 -31.99\n",
       "    LONGITUDE      (TIME) float64 115.4 115.4 115.4 115.4 ... 115.4 115.4 115.4\n",
       "Attributes:\n",
       "    ancillary_variables:  TEMP_quality_control\n",
       "    long_name:            sea_water_temperature\n",
       "    standard_name:        sea_water_temperature\n",
       "    units:                degrees_Celsius\n",
       "    valid_max:            40.0\n",
       "    valid_min:            -2.5"
      ]
     },
     "execution_count": 50,
     "metadata": {},
     "output_type": "execute_result"
    }
   ],
   "source": [
    "temp33 = rot_33.TEMP\n",
    "temp33"
   ]
  },
  {
   "cell_type": "code",
   "execution_count": 51,
   "metadata": {},
   "outputs": [
    {
     "name": "stdout",
     "output_type": "stream",
     "text": [
      "CPU times: user 56.3 ms, sys: 17.1 ms, total: 73.4 ms\n",
      "Wall time: 124 ms\n"
     ]
    },
    {
     "data": {
      "text/plain": [
       "[<matplotlib.lines.Line2D at 0x7f1c7bae9a58>]"
      ]
     },
     "execution_count": 51,
     "metadata": {},
     "output_type": "execute_result"
    },
    {
     "data": {
      "image/png": "[encoded data removed]",
      "text/plain": [
       "<Figure size 432x288 with 1 Axes>"
      ]
     },
     "metadata": {
      "needs_background": "light"
     },
     "output_type": "display_data"
    }
   ],
   "source": [
    "%%time\n",
    "temp33.plot()"
   ]
  },
  {
   "cell_type": "code",
   "execution_count": 52,
   "metadata": {},
   "outputs": [
    {
     "data": {
      "text/plain": [
       "[<matplotlib.lines.Line2D at 0x7f1c76eeeef0>]"
      ]
     },
     "execution_count": 52,
     "metadata": {},
     "output_type": "execute_result"
    },
    {
     "data": {
      "image/png": "[encoded data removed]",
      "text/plain": [
       "<Figure size 432x288 with 1 Axes>"
      ]
     },
     "metadata": {
      "needs_background": "light"
     },
     "output_type": "display_data"
    }
   ],
   "source": [
    "# Let's get just the good data\n",
    "temp33[rot_33.TEMP_quality_control == 1].plot()"
   ]
  }
 ],
 "metadata": {
  "kernelspec": {
   "display_name": "Python 3",
   "language": "python",
   "name": "python3"
  },
  "language_info": {
   "codemirror_mode": {
    "name": "ipython",
    "version": 3
   },
   "file_extension": ".py",
   "mimetype": "text/x-python",
   "name": "python",
   "nbconvert_exporter": "python",
   "pygments_lexer": "ipython3",
   "version": "3.6.7"
  }
 },
 "nbformat": 4,
 "nbformat_minor": 2
}
